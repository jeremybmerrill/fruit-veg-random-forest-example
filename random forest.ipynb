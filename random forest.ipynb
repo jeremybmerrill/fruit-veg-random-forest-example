{
 "cells": [
  {
   "cell_type": "code",
   "execution_count": 1,
   "id": "a531b835-9a5a-4614-bfd9-7f08123629fc",
   "metadata": {},
   "outputs": [],
   "source": [
    "import pandas as pd\n",
    "import sklearn\n",
    "from sklearn.model_selection import train_test_split"
   ]
  },
  {
   "cell_type": "code",
   "execution_count": 2,
   "id": "97962080-1ae4-4623-af3e-1bae677fa541",
   "metadata": {},
   "outputs": [
    {
     "data": {
      "text/plain": [
       "Index(['>30 cal per 100g', 'over $1/pound', 'need to peel', 'green?',\n",
       "       'keep in fridge', 'grows on a tree', 'truth'],\n",
       "      dtype='object')"
      ]
     },
     "execution_count": 2,
     "metadata": {},
     "output_type": "execute_result"
    }
   ],
   "source": [
    "df = pd.read_csv(\"fruits 'n' veggies - booleanized.csv\").set_index(\"fruit\")\n",
    "\n",
    "# these are the columns that we're trying to use to predict fruit v veggie\n",
    "feature_columns = [ '>30 cal per 100g', 'over $1/pound', 'need to peel', 'green?',\n",
    "       'keep in fridge', 'grows on a tree']\n",
    "\n",
    "# data cleaning, converting Excel's `TRUE` to a Python `True`\n",
    "for col in feature_columns:\n",
    "    df[col] = df[col] == 'TRUE'\n",
    "df['truth'] = df.truth == 'fruit' # and converting the `fruit`/`veg` labels to True/False"
   ]
  },
  {
   "cell_type": "code",
   "execution_count": 3,
   "id": "0350692b-4f02-492b-911d-55ef639ecada",
   "metadata": {},
   "outputs": [
    {
     "name": "stdout",
     "output_type": "stream",
     "text": [
      "38 train records, 13 test records\n"
     ]
    }
   ],
   "source": [
    "\n",
    "# split the dataset into test and train.\n",
    "train_df, test_df  = train_test_split(df)\n",
    "print(\"{} train records, {} test records\".format(len(train_df), len(test_df)))"
   ]
  },
  {
   "cell_type": "code",
   "execution_count": 4,
   "id": "c6bcf285-dfbd-40f8-b1e1-c48b3ed0ed14",
   "metadata": {},
   "outputs": [
    {
     "data": {
      "text/html": [
       "<style>#sk-container-id-1 {color: black;background-color: white;}#sk-container-id-1 pre{padding: 0;}#sk-container-id-1 div.sk-toggleable {background-color: white;}#sk-container-id-1 label.sk-toggleable__label {cursor: pointer;display: block;width: 100%;margin-bottom: 0;padding: 0.3em;box-sizing: border-box;text-align: center;}#sk-container-id-1 label.sk-toggleable__label-arrow:before {content: \"▸\";float: left;margin-right: 0.25em;color: #696969;}#sk-container-id-1 label.sk-toggleable__label-arrow:hover:before {color: black;}#sk-container-id-1 div.sk-estimator:hover label.sk-toggleable__label-arrow:before {color: black;}#sk-container-id-1 div.sk-toggleable__content {max-height: 0;max-width: 0;overflow: hidden;text-align: left;background-color: #f0f8ff;}#sk-container-id-1 div.sk-toggleable__content pre {margin: 0.2em;color: black;border-radius: 0.25em;background-color: #f0f8ff;}#sk-container-id-1 input.sk-toggleable__control:checked~div.sk-toggleable__content {max-height: 200px;max-width: 100%;overflow: auto;}#sk-container-id-1 input.sk-toggleable__control:checked~label.sk-toggleable__label-arrow:before {content: \"▾\";}#sk-container-id-1 div.sk-estimator input.sk-toggleable__control:checked~label.sk-toggleable__label {background-color: #d4ebff;}#sk-container-id-1 div.sk-label input.sk-toggleable__control:checked~label.sk-toggleable__label {background-color: #d4ebff;}#sk-container-id-1 input.sk-hidden--visually {border: 0;clip: rect(1px 1px 1px 1px);clip: rect(1px, 1px, 1px, 1px);height: 1px;margin: -1px;overflow: hidden;padding: 0;position: absolute;width: 1px;}#sk-container-id-1 div.sk-estimator {font-family: monospace;background-color: #f0f8ff;border: 1px dotted black;border-radius: 0.25em;box-sizing: border-box;margin-bottom: 0.5em;}#sk-container-id-1 div.sk-estimator:hover {background-color: #d4ebff;}#sk-container-id-1 div.sk-parallel-item::after {content: \"\";width: 100%;border-bottom: 1px solid gray;flex-grow: 1;}#sk-container-id-1 div.sk-label:hover label.sk-toggleable__label {background-color: #d4ebff;}#sk-container-id-1 div.sk-serial::before {content: \"\";position: absolute;border-left: 1px solid gray;box-sizing: border-box;top: 0;bottom: 0;left: 50%;z-index: 0;}#sk-container-id-1 div.sk-serial {display: flex;flex-direction: column;align-items: center;background-color: white;padding-right: 0.2em;padding-left: 0.2em;position: relative;}#sk-container-id-1 div.sk-item {position: relative;z-index: 1;}#sk-container-id-1 div.sk-parallel {display: flex;align-items: stretch;justify-content: center;background-color: white;position: relative;}#sk-container-id-1 div.sk-item::before, #sk-container-id-1 div.sk-parallel-item::before {content: \"\";position: absolute;border-left: 1px solid gray;box-sizing: border-box;top: 0;bottom: 0;left: 50%;z-index: -1;}#sk-container-id-1 div.sk-parallel-item {display: flex;flex-direction: column;z-index: 1;position: relative;background-color: white;}#sk-container-id-1 div.sk-parallel-item:first-child::after {align-self: flex-end;width: 50%;}#sk-container-id-1 div.sk-parallel-item:last-child::after {align-self: flex-start;width: 50%;}#sk-container-id-1 div.sk-parallel-item:only-child::after {width: 0;}#sk-container-id-1 div.sk-dashed-wrapped {border: 1px dashed gray;margin: 0 0.4em 0.5em 0.4em;box-sizing: border-box;padding-bottom: 0.4em;background-color: white;}#sk-container-id-1 div.sk-label label {font-family: monospace;font-weight: bold;display: inline-block;line-height: 1.2em;}#sk-container-id-1 div.sk-label-container {text-align: center;}#sk-container-id-1 div.sk-container {/* jupyter's `normalize.less` sets `[hidden] { display: none; }` but bootstrap.min.css set `[hidden] { display: none !important; }` so we also need the `!important` here to be able to override the default hidden behavior on the sphinx rendered scikit-learn.org. See: https://github.com/scikit-learn/scikit-learn/issues/21755 */display: inline-block !important;position: relative;}#sk-container-id-1 div.sk-text-repr-fallback {display: none;}</style><div id=\"sk-container-id-1\" class=\"sk-top-container\"><div class=\"sk-text-repr-fallback\"><pre>RandomForestClassifier(n_estimators=3)</pre><b>In a Jupyter environment, please rerun this cell to show the HTML representation or trust the notebook. <br />On GitHub, the HTML representation is unable to render, please try loading this page with nbviewer.org.</b></div><div class=\"sk-container\" hidden><div class=\"sk-item\"><div class=\"sk-estimator sk-toggleable\"><input class=\"sk-toggleable__control sk-hidden--visually\" id=\"sk-estimator-id-1\" type=\"checkbox\" checked><label for=\"sk-estimator-id-1\" class=\"sk-toggleable__label sk-toggleable__label-arrow\">RandomForestClassifier</label><div class=\"sk-toggleable__content\"><pre>RandomForestClassifier(n_estimators=3)</pre></div></div></div></div></div>"
      ],
      "text/plain": [
       "RandomForestClassifier(n_estimators=3)"
      ]
     },
     "execution_count": 4,
     "metadata": {},
     "output_type": "execute_result"
    }
   ],
   "source": [
    "from sklearn.ensemble import RandomForestClassifier\n",
    "\n",
    "# create a very small random forest classifier with 3 trees.\n",
    "model = RandomForestClassifier(n_estimators=3)\n",
    "\n",
    "# train the classifier with two arguments: the features, and the true fruit/veg label\n",
    "model.fit(train_df[feature_columns], train_df['truth'])\n"
   ]
  },
  {
   "cell_type": "code",
   "execution_count": 5,
   "id": "6ee4cc6b-a74b-474a-8c6d-309d5d33c7a4",
   "metadata": {},
   "outputs": [],
   "source": [
    "# now that we've trained a model, let's generate predictions for our test set.\n",
    "# note how we don't tell the model about the right answers (i.e. `test_df.truth` isn't written anywhere here.)\n",
    "predictions = model.predict(test_df[feature_columns])\n"
   ]
  },
  {
   "cell_type": "code",
   "execution_count": 24,
   "id": "d24d00fb-73b7-4e02-8322-0fa01daffd61",
   "metadata": {},
   "outputs": [
    {
     "name": "stdout",
     "output_type": "stream",
     "text": [
      "accuracy: 84.6% (11/13)\n"
     ]
    },
    {
     "data": {
      "text/html": [
       "<style type=\"text/css\">\n",
       "#T_aec0c_row0_col3, #T_aec0c_row1_col3, #T_aec0c_row2_col3, #T_aec0c_row3_col3, #T_aec0c_row6_col3, #T_aec0c_row7_col3, #T_aec0c_row8_col3, #T_aec0c_row9_col3, #T_aec0c_row10_col3, #T_aec0c_row11_col3, #T_aec0c_row12_col3 {\n",
       "  background-color: #023858;\n",
       "  color: #f1f1f1;\n",
       "}\n",
       "#T_aec0c_row4_col3, #T_aec0c_row5_col3 {\n",
       "  background-color: #fff7fb;\n",
       "  color: #000000;\n",
       "}\n",
       "</style>\n",
       "<table id=\"T_aec0c\">\n",
       "  <thead>\n",
       "    <tr>\n",
       "      <th class=\"blank level0\" >&nbsp;</th>\n",
       "      <th id=\"T_aec0c_level0_col0\" class=\"col_heading level0 col0\" >fruit</th>\n",
       "      <th id=\"T_aec0c_level0_col1\" class=\"col_heading level0 col1\" >truth</th>\n",
       "      <th id=\"T_aec0c_level0_col2\" class=\"col_heading level0 col2\" >prediction</th>\n",
       "      <th id=\"T_aec0c_level0_col3\" class=\"col_heading level0 col3\" >correct?</th>\n",
       "    </tr>\n",
       "    <tr>\n",
       "      <th class=\"index_name level0\" >fruit</th>\n",
       "      <th class=\"blank col0\" >&nbsp;</th>\n",
       "      <th class=\"blank col1\" >&nbsp;</th>\n",
       "      <th class=\"blank col2\" >&nbsp;</th>\n",
       "      <th class=\"blank col3\" >&nbsp;</th>\n",
       "    </tr>\n",
       "  </thead>\n",
       "  <tbody>\n",
       "    <tr>\n",
       "      <th id=\"T_aec0c_level0_row0\" class=\"row_heading level0 row0\" >coconut</th>\n",
       "      <td id=\"T_aec0c_row0_col0\" class=\"data row0 col0\" >coconut</td>\n",
       "      <td id=\"T_aec0c_row0_col1\" class=\"data row0 col1\" >True</td>\n",
       "      <td id=\"T_aec0c_row0_col2\" class=\"data row0 col2\" >True</td>\n",
       "      <td id=\"T_aec0c_row0_col3\" class=\"data row0 col3\" >True</td>\n",
       "    </tr>\n",
       "    <tr>\n",
       "      <th id=\"T_aec0c_level0_row1\" class=\"row_heading level0 row1\" >coffee bean</th>\n",
       "      <td id=\"T_aec0c_row1_col0\" class=\"data row1 col0\" >coffee bean</td>\n",
       "      <td id=\"T_aec0c_row1_col1\" class=\"data row1 col1\" >True</td>\n",
       "      <td id=\"T_aec0c_row1_col2\" class=\"data row1 col2\" >True</td>\n",
       "      <td id=\"T_aec0c_row1_col3\" class=\"data row1 col3\" >True</td>\n",
       "    </tr>\n",
       "    <tr>\n",
       "      <th id=\"T_aec0c_level0_row2\" class=\"row_heading level0 row2\" >pear</th>\n",
       "      <td id=\"T_aec0c_row2_col0\" class=\"data row2 col0\" >pear</td>\n",
       "      <td id=\"T_aec0c_row2_col1\" class=\"data row2 col1\" >True</td>\n",
       "      <td id=\"T_aec0c_row2_col2\" class=\"data row2 col2\" >True</td>\n",
       "      <td id=\"T_aec0c_row2_col3\" class=\"data row2 col3\" >True</td>\n",
       "    </tr>\n",
       "    <tr>\n",
       "      <th id=\"T_aec0c_level0_row3\" class=\"row_heading level0 row3\" >tamirand</th>\n",
       "      <td id=\"T_aec0c_row3_col0\" class=\"data row3 col0\" >tamirand</td>\n",
       "      <td id=\"T_aec0c_row3_col1\" class=\"data row3 col1\" >True</td>\n",
       "      <td id=\"T_aec0c_row3_col2\" class=\"data row3 col2\" >True</td>\n",
       "      <td id=\"T_aec0c_row3_col3\" class=\"data row3 col3\" >True</td>\n",
       "    </tr>\n",
       "    <tr>\n",
       "      <th id=\"T_aec0c_level0_row4\" class=\"row_heading level0 row4\" >artichoke</th>\n",
       "      <td id=\"T_aec0c_row4_col0\" class=\"data row4 col0\" >artichoke</td>\n",
       "      <td id=\"T_aec0c_row4_col1\" class=\"data row4 col1\" >False</td>\n",
       "      <td id=\"T_aec0c_row4_col2\" class=\"data row4 col2\" >True</td>\n",
       "      <td id=\"T_aec0c_row4_col3\" class=\"data row4 col3\" >False</td>\n",
       "    </tr>\n",
       "    <tr>\n",
       "      <th id=\"T_aec0c_level0_row5\" class=\"row_heading level0 row5\" >mushroom</th>\n",
       "      <td id=\"T_aec0c_row5_col0\" class=\"data row5 col0\" >mushroom</td>\n",
       "      <td id=\"T_aec0c_row5_col1\" class=\"data row5 col1\" >False</td>\n",
       "      <td id=\"T_aec0c_row5_col2\" class=\"data row5 col2\" >True</td>\n",
       "      <td id=\"T_aec0c_row5_col3\" class=\"data row5 col3\" >False</td>\n",
       "    </tr>\n",
       "    <tr>\n",
       "      <th id=\"T_aec0c_level0_row6\" class=\"row_heading level0 row6\" >radish</th>\n",
       "      <td id=\"T_aec0c_row6_col0\" class=\"data row6 col0\" >radish</td>\n",
       "      <td id=\"T_aec0c_row6_col1\" class=\"data row6 col1\" >False</td>\n",
       "      <td id=\"T_aec0c_row6_col2\" class=\"data row6 col2\" >False</td>\n",
       "      <td id=\"T_aec0c_row6_col3\" class=\"data row6 col3\" >True</td>\n",
       "    </tr>\n",
       "    <tr>\n",
       "      <th id=\"T_aec0c_level0_row7\" class=\"row_heading level0 row7\" >apple</th>\n",
       "      <td id=\"T_aec0c_row7_col0\" class=\"data row7 col0\" >apple</td>\n",
       "      <td id=\"T_aec0c_row7_col1\" class=\"data row7 col1\" >True</td>\n",
       "      <td id=\"T_aec0c_row7_col2\" class=\"data row7 col2\" >True</td>\n",
       "      <td id=\"T_aec0c_row7_col3\" class=\"data row7 col3\" >True</td>\n",
       "    </tr>\n",
       "    <tr>\n",
       "      <th id=\"T_aec0c_level0_row8\" class=\"row_heading level0 row8\" >plum</th>\n",
       "      <td id=\"T_aec0c_row8_col0\" class=\"data row8 col0\" >plum</td>\n",
       "      <td id=\"T_aec0c_row8_col1\" class=\"data row8 col1\" >True</td>\n",
       "      <td id=\"T_aec0c_row8_col2\" class=\"data row8 col2\" >True</td>\n",
       "      <td id=\"T_aec0c_row8_col3\" class=\"data row8 col3\" >True</td>\n",
       "    </tr>\n",
       "    <tr>\n",
       "      <th id=\"T_aec0c_level0_row9\" class=\"row_heading level0 row9\" >beet</th>\n",
       "      <td id=\"T_aec0c_row9_col0\" class=\"data row9 col0\" >beet</td>\n",
       "      <td id=\"T_aec0c_row9_col1\" class=\"data row9 col1\" >False</td>\n",
       "      <td id=\"T_aec0c_row9_col2\" class=\"data row9 col2\" >False</td>\n",
       "      <td id=\"T_aec0c_row9_col3\" class=\"data row9 col3\" >True</td>\n",
       "    </tr>\n",
       "    <tr>\n",
       "      <th id=\"T_aec0c_level0_row10\" class=\"row_heading level0 row10\" >kale</th>\n",
       "      <td id=\"T_aec0c_row10_col0\" class=\"data row10 col0\" >kale</td>\n",
       "      <td id=\"T_aec0c_row10_col1\" class=\"data row10 col1\" >False</td>\n",
       "      <td id=\"T_aec0c_row10_col2\" class=\"data row10 col2\" >False</td>\n",
       "      <td id=\"T_aec0c_row10_col3\" class=\"data row10 col3\" >True</td>\n",
       "    </tr>\n",
       "    <tr>\n",
       "      <th id=\"T_aec0c_level0_row11\" class=\"row_heading level0 row11\" >garlic</th>\n",
       "      <td id=\"T_aec0c_row11_col0\" class=\"data row11 col0\" >garlic</td>\n",
       "      <td id=\"T_aec0c_row11_col1\" class=\"data row11 col1\" >False</td>\n",
       "      <td id=\"T_aec0c_row11_col2\" class=\"data row11 col2\" >False</td>\n",
       "      <td id=\"T_aec0c_row11_col3\" class=\"data row11 col3\" >True</td>\n",
       "    </tr>\n",
       "    <tr>\n",
       "      <th id=\"T_aec0c_level0_row12\" class=\"row_heading level0 row12\" >grape</th>\n",
       "      <td id=\"T_aec0c_row12_col0\" class=\"data row12 col0\" >grape</td>\n",
       "      <td id=\"T_aec0c_row12_col1\" class=\"data row12 col1\" >True</td>\n",
       "      <td id=\"T_aec0c_row12_col2\" class=\"data row12 col2\" >True</td>\n",
       "      <td id=\"T_aec0c_row12_col3\" class=\"data row12 col3\" >True</td>\n",
       "    </tr>\n",
       "  </tbody>\n",
       "</table>\n"
      ],
      "text/plain": [
       "<pandas.io.formats.style.Styler at 0x139852690>"
      ]
     },
     "execution_count": 24,
     "metadata": {},
     "output_type": "execute_result"
    }
   ],
   "source": [
    "# let's see how we did!\n",
    "\n",
    "from sklearn.metrics import accuracy_score, ConfusionMatrixDisplay\n",
    "\n",
    "# calculate accuracy score\n",
    "print(\"accuracy: {:.1%} ({}/{})\".format(accuracy_score(test_df.truth, predictions), sum(test_df.truth == predictions), len(test_df)))\n",
    "\n",
    "# show the results\n",
    "pd.DataFrame({\n",
    "        \"fruit\": test_df.index, \n",
    "        \"truth\": test_df.truth,#.replace({True: 'fruit', False: 'veg'}), \n",
    "        \"prediction\": predictions, #.replace({True: 'fruit', False: 'veg'}), \n",
    "        \"correct?\": test_df.truth == predictions\n",
    "}).style.background_gradient(subset=[\"correct?\"])"
   ]
  },
  {
   "cell_type": "code",
   "execution_count": 21,
   "id": "d2506ba7-eae3-436a-aa8b-fcb87d0b75b1",
   "metadata": {},
   "outputs": [
    {
     "data": {
      "text/plain": [
       "<sklearn.metrics._plot.confusion_matrix.ConfusionMatrixDisplay at 0x138231f90>"
      ]
     },
     "execution_count": 21,
     "metadata": {},
     "output_type": "execute_result"
    },
    {
     "data": {
      "image/png": "[encoded data removed]",
      "text/plain": [
       "<Figure size 640x480 with 2 Axes>"
      ]
     },
     "metadata": {},
     "output_type": "display_data"
    }
   ],
   "source": [
    "# draw a 'confusion matrix'\n",
    "# which shows the right/wrong answers.\n",
    "ConfusionMatrixDisplay.from_predictions(test_df.truth.replace({True: 'fruit', False: 'veg'}), pd.Series(predictions).replace({True: 'fruit', False: 'veg'}))"
   ]
  },
  {
   "cell_type": "code",
   "execution_count": null,
   "id": "d41acb03-d8de-4047-be77-9872ee7c582b",
   "metadata": {},
   "outputs": [],
   "source": []
  }
 ],
 "metadata": {
  "kernelspec": {
   "display_name": "Python 3 (ipykernel)",
   "language": "python",
   "name": "python3"
  },
  "language_info": {
   "codemirror_mode": {
    "name": "ipython",
    "version": 3
   },
   "file_extension": ".py",
   "mimetype": "text/x-python",
   "name": "python",
   "nbconvert_exporter": "python",
   "pygments_lexer": "ipython3",
   "version": "3.11.7"
  }
 },
 "nbformat": 4,
 "nbformat_minor": 5
}
